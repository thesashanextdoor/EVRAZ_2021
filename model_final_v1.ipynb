{
 "cells": [
  {
   "cell_type": "code",
   "execution_count": 1,
   "metadata": {},
   "outputs": [],
   "source": [
    "import numpy as np\n",
    "import pandas as pd\n",
    "from sklearn.model_selection import train_test_split\n",
    "from sklearn.ensemble import RandomForestRegressor\n",
    "from sklearn.multioutput import MultiOutputRegressor\n",
    "from sklearn.model_selection import RandomizedSearchCV"
   ]
  },
  {
   "cell_type": "code",
   "execution_count": 6,
   "metadata": {},
   "outputs": [],
   "source": [
    "lom_train = pd.read_csv(\"data/lom_train.csv\")\n",
    "lom_test = pd.read_csv(\"data/lom_test.csv\")"
   ]
  },
  {
   "cell_type": "code",
   "execution_count": 7,
   "metadata": {},
   "outputs": [],
   "source": [
    "sip_train = pd.read_csv(\"data/sip_train.csv\")\n",
    "sip_test = pd.read_csv(\"data/sip_test.csv\")"
   ]
  },
  {
   "cell_type": "code",
   "execution_count": 8,
   "metadata": {},
   "outputs": [],
   "source": [
    "def get_sip_or_lom_features(lom_df, types, type_column='VDL', ves_column='VES'):\n",
    "    df = lom_df.sort_values('NPLV').copy()\n",
    "    ids = df['NPLV'].unique()\n",
    "    num_ids = len(ids)\n",
    "    dict_to_df = {type_column + '_' + str(lom_type) + '_VES': np.zeros(num_ids) for lom_type in types}\n",
    "    dict_to_df['NPLV'] = ids\n",
    "    k = 0\n",
    "    nplv_last = df.iloc[0]['NPLV']\n",
    "    for i in range(df.shape[0]):\n",
    "        nplv_next = df.iloc[i]['NPLV']\n",
    "        if nplv_next != nplv_last:\n",
    "            k+=1\n",
    "        lom_type = df.iloc[i][type_column]\n",
    "        ves = df.iloc[i][ves_column]\n",
    "        column_name = type_column+'_'+str(lom_type)+'_VES'\n",
    "        if column_name in dict_to_df.keys():\n",
    "            dict_to_df[column_name][k] += ves\n",
    "        nplv_last = nplv_next\n",
    "    result = pd.DataFrame.from_dict(dict_to_df)\n",
    "    return result"
   ]
  },
  {
   "cell_type": "code",
   "execution_count": 13,
   "metadata": {},
   "outputs": [
    {
     "name": "stdout",
     "output_type": "stream",
     "text": [
      "CPU times: user 15 s, sys: 3.23 ms, total: 15 s\n",
      "Wall time: 15 s\n"
     ]
    }
   ],
   "source": [
    "%%time\n",
    "\n",
    "# Подготовим фичи по файлам lom, sip\n",
    "features_train_lom = get_sip_or_lom_features(lom_train, lom_train['VDL'].unique())\n",
    "features_train_sip = get_sip_or_lom_features(sip_train, sip_train['VDSYP'].unique(), \n",
    "                                         type_column='VDSYP', ves_column='VSSYP')\n",
    "\n",
    "features_test_lom = get_sip_or_lom_features(lom_test, lom_train['VDL'].unique())\n",
    "features_test_sip = get_sip_or_lom_features(sip_test, sip_train['VDSYP'].unique(), \n",
    "                                         type_column='VDSYP', ves_column='VSSYP')\n"
   ]
  },
  {
   "cell_type": "code",
   "execution_count": 14,
   "metadata": {},
   "outputs": [],
   "source": [
    "features_train_lom.to_csv(\"data/features_train_lom.csv\", index=False)\n",
    "features_test_lom.to_csv(\"data/features_test_lom.csv\", index=False)\n",
    "features_train_sip.to_csv(\"data/features_train_sip.csv\", index=False)\n",
    "features_test_sip.to_csv(\"data/features_test_sip.csv\", index=False)"
   ]
  },
  {
   "cell_type": "code",
   "execution_count": null,
   "metadata": {},
   "outputs": [],
   "source": []
  },
  {
   "cell_type": "code",
   "execution_count": 15,
   "metadata": {},
   "outputs": [],
   "source": [
    "produv_train = pd.read_csv(\"data/produv_train.csv\")\n",
    "produv_test = pd.read_csv(\"data/produv_test.csv\")"
   ]
  },
  {
   "cell_type": "code",
   "execution_count": 16,
   "metadata": {},
   "outputs": [],
   "source": [
    "chugun_train = pd.read_csv(\"data/chugun_train.csv\")\n",
    "chugun_test = pd.read_csv(\"data/chugun_test.csv\")"
   ]
  },
  {
   "cell_type": "code",
   "execution_count": 17,
   "metadata": {},
   "outputs": [],
   "source": [
    "sip_train = pd.read_csv(\"data/features_train_sip.csv\")\n",
    "sip_test = pd.read_csv(\"data/features_test_sip.csv\")"
   ]
  },
  {
   "cell_type": "code",
   "execution_count": 18,
   "metadata": {},
   "outputs": [],
   "source": [
    "lom_train = pd.read_csv(\"data/features_train_lom.csv\")\n",
    "lom_test = pd.read_csv(\"data/features_test_lom.csv\")"
   ]
  },
  {
   "cell_type": "code",
   "execution_count": 19,
   "metadata": {},
   "outputs": [],
   "source": [
    "plavka_train = pd.read_csv(\"data/plavki_train.csv\")\n",
    "plavka_test = pd.read_csv(\"data/plavki_test.csv\")"
   ]
  },
  {
   "cell_type": "code",
   "execution_count": 20,
   "metadata": {},
   "outputs": [],
   "source": [
    "target_train = pd.read_csv(\"data/target_train.csv\")\n",
    "target_test = pd.read_csv(\"data/sample_submission.csv\")"
   ]
  },
  {
   "cell_type": "code",
   "execution_count": 21,
   "metadata": {},
   "outputs": [
    {
     "name": "stdout",
     "output_type": "stream",
     "text": [
      "CPU times: user 18.4 s, sys: 1.08 s, total: 19.5 s\n",
      "Wall time: 21.7 s\n"
     ]
    }
   ],
   "source": [
    "%%time\n",
    "gas_train = pd.read_csv(\"data/gas_train.csv\")\n",
    "gas_test = pd.read_csv(\"data/gas_test.csv\")"
   ]
  },
  {
   "cell_type": "code",
   "execution_count": null,
   "metadata": {},
   "outputs": [],
   "source": []
  },
  {
   "cell_type": "code",
   "execution_count": null,
   "metadata": {},
   "outputs": [],
   "source": []
  },
  {
   "cell_type": "code",
   "execution_count": 22,
   "metadata": {},
   "outputs": [],
   "source": [
    "def gas_param_endofprocess(gas_df, param=\"O2\"):\n",
    "    \n",
    "    gas_df['Time'] = pd.to_datetime(gas_df['Time'])\n",
    "    gas_df.set_index('Time')\n",
    "    \n",
    "    df = pd.DataFrame(columns=['NPLV', param + \"_endofprocess\"])\n",
    "    i = 0\n",
    "    for nplv in gas_df['NPLV'].unique():\n",
    "        gas_df_tmp = gas_df[gas_df['NPLV'] == nplv].copy()\n",
    "        param_endofprocess_median = gas_df_tmp[-600:][param].median()\n",
    "        df.loc[i, ['NPLV', param + \"_endofprocess\"]] = [nplv, param_endofprocess_median]\n",
    "        i += 1\n",
    "    return df"
   ]
  },
  {
   "cell_type": "code",
   "execution_count": 23,
   "metadata": {},
   "outputs": [],
   "source": [
    "def gas_param_startofprocess(gas_df, param=\"N2\"):\n",
    "    \n",
    "    gas_df['Time'] = pd.to_datetime(gas_df['Time'])\n",
    "    gas_df.set_index('Time')\n",
    "    \n",
    "    df = pd.DataFrame(columns=['NPLV', param + \"_endofprocess\"])\n",
    "    i = 0\n",
    "    for nplv in gas_df['NPLV'].unique():\n",
    "        gas_df_tmp = gas_df[gas_df['NPLV'] == nplv].copy()\n",
    "        param_endofprocess_median = gas_df_tmp[:600][param].median()\n",
    "        df.loc[i, ['NPLV', param + \"_endofprocess\"]] = [nplv, param_endofprocess_median]\n",
    "        i += 1\n",
    "    return df"
   ]
  },
  {
   "cell_type": "code",
   "execution_count": null,
   "metadata": {},
   "outputs": [],
   "source": []
  },
  {
   "cell_type": "code",
   "execution_count": 24,
   "metadata": {},
   "outputs": [],
   "source": [
    "def preprocess_df(produv_df, chugun_df, sip_df, lom_df, plavka_df, gas_df, target_df, is_df_train=True, df_train=None):\n",
    "    \n",
    "    produv_df['SEC'] = pd.to_datetime(produv_df['SEC'])\n",
    "    produv_df = produv_df.groupby('NPLV', as_index=False)['SEC'].min()\n",
    "\n",
    "    chugun_df['DATA_ZAMERA'] = pd.to_datetime(chugun_df['DATA_ZAMERA'])    \n",
    "\n",
    "    \n",
    "    plavka_df['plavka_VR_NACH'] = pd.to_datetime(plavka_df['plavka_VR_NACH'])\n",
    "    plavka_df['plavka_VR_KON'] = pd.to_datetime(plavka_df['plavka_VR_KON'])\n",
    "    plavka_df['plavka_duration'] = (plavka_df['plavka_VR_KON'] - plavka_df['plavka_VR_NACH']).dt.total_seconds()\n",
    "\n",
    "    plavka_TIPE_FUR = pd.get_dummies(plavka_df['plavka_TIPE_FUR'], drop_first=True, prefix='plavka_TIPE_FUR')\n",
    "    plavka_df = pd.concat([plavka_df, plavka_TIPE_FUR], axis=1)\n",
    "\n",
    "    plavka_df = plavka_df[['NPLV', 'plavka_duration', 'plavka_NMZ', 'plavka_TIPE_FUR_цилиндрическая']]\n",
    "    \n",
    "    gas_df_tmp = gas_df.groupby(\"NPLV\", as_index=False)[['O2']].median()\n",
    "    \n",
    "\n",
    "    gas_df_tmp['T_q95'] = gas_df.groupby(\"NPLV\", as_index=False)[['T']].quantile(q=0.95)['T']\n",
    "    \n",
    "    gas_df_tmp = pd.merge(gas_df_tmp, gas_param_endofprocess(gas_df, param='O2'))\n",
    "\n",
    "\n",
    "    \n",
    "    df_tmp = pd.merge(produv_df, chugun_df, on='NPLV')\n",
    "    df_tmp = pd.merge(df_tmp, sip_df, on='NPLV')\n",
    "    df_tmp = pd.merge(df_tmp, lom_df, on='NPLV')\n",
    "    df_tmp = pd.merge(df_tmp, plavka_df, on='NPLV')\n",
    "    df_tmp = pd.merge(df_tmp, target_df, on='NPLV')\n",
    "    df_tmp = pd.merge(df_tmp, gas_df_tmp, on='NPLV')\n",
    "\n",
    "    df_tmp['produv_startdata_chugun_datazamera_delta'] = (df_tmp['SEC'] - df_tmp['DATA_ZAMERA']).dt.total_seconds()\n",
    "\n",
    "    df_tmp.drop(['SEC', 'DATA_ZAMERA'], axis=1, inplace=True)\n",
    "    \n",
    "    if is_df_train:\n",
    "        \n",
    "        df_tmp['median_C_per_plavka_NMZ'] = df_tmp['C'].median()\n",
    "        df_tmp['median_TST_per_plavka_NMZ'] = df_tmp['TST'].median()\n",
    "        \n",
    "\n",
    "\n",
    "        median_C_TST_per_plavka_NMZ = df_tmp.groupby('plavka_NMZ')[['C', 'TST']].median().to_dict()\n",
    "        \n",
    "        for i in range(len(df_tmp)):\n",
    "            if df_tmp.loc[i, 'plavka_NMZ'] in median_C_TST_per_plavka_NMZ['C'].keys():\n",
    "                mark = df_tmp.loc[i, 'plavka_NMZ']\n",
    "                df_tmp.loc[i, 'median_C_per_plavka_NMZ'] = median_C_TST_per_plavka_NMZ['C'][mark]\n",
    "                df_tmp.loc[i, 'median_TST_per_plavka_NMZ'] = median_C_TST_per_plavka_NMZ['TST'][mark]\n",
    "\n",
    "        \n",
    "    else:\n",
    "        df_tmp['median_C_per_plavka_NMZ'] = df_train['C'].median()\n",
    "        df_tmp['median_TST_per_plavka_NMZ'] = df_train['TST'].median()\n",
    "\n",
    "\n",
    "        median_C_TST_per_plavka_NMZ = df_train.groupby('plavka_NMZ')[['C', 'TST']].median().to_dict()\n",
    "        \n",
    "        for i in range(len(df_tmp)):\n",
    "            if df_tmp.loc[i, 'plavka_NMZ'] in median_C_TST_per_plavka_NMZ['C'].keys():\n",
    "                mark = df_tmp.loc[i, 'plavka_NMZ']\n",
    "                df_tmp.loc[i, 'median_C_per_plavka_NMZ'] = median_C_TST_per_plavka_NMZ['C'][mark]\n",
    "                df_tmp.loc[i, 'median_TST_per_plavka_NMZ'] = median_C_TST_per_plavka_NMZ['TST'][mark]\n",
    "\n",
    "                \n",
    "    return df_tmp"
   ]
  },
  {
   "cell_type": "code",
   "execution_count": 25,
   "metadata": {},
   "outputs": [],
   "source": [
    "#train, validation"
   ]
  },
  {
   "cell_type": "code",
   "execution_count": 26,
   "metadata": {},
   "outputs": [
    {
     "name": "stdout",
     "output_type": "stream",
     "text": [
      "CPU times: user 46.7 s, sys: 700 ms, total: 47.4 s\n",
      "Wall time: 15.7 s\n"
     ]
    }
   ],
   "source": [
    "%%time\n",
    "df = preprocess_df(produv_train, chugun_train, sip_train, lom_train, plavka_train, gas_train, target_train)"
   ]
  },
  {
   "cell_type": "code",
   "execution_count": 28,
   "metadata": {},
   "outputs": [
    {
     "data": {
      "text/html": [
       "<div>\n",
       "<style scoped>\n",
       "    .dataframe tbody tr th:only-of-type {\n",
       "        vertical-align: middle;\n",
       "    }\n",
       "\n",
       "    .dataframe tbody tr th {\n",
       "        vertical-align: top;\n",
       "    }\n",
       "\n",
       "    .dataframe thead th {\n",
       "        text-align: right;\n",
       "    }\n",
       "</style>\n",
       "<table border=\"1\" class=\"dataframe\">\n",
       "  <thead>\n",
       "    <tr style=\"text-align: right;\">\n",
       "      <th></th>\n",
       "      <th>0</th>\n",
       "      <th>1</th>\n",
       "      <th>2</th>\n",
       "      <th>3</th>\n",
       "      <th>4</th>\n",
       "    </tr>\n",
       "  </thead>\n",
       "  <tbody>\n",
       "    <tr>\n",
       "      <th>NPLV</th>\n",
       "      <td>510008</td>\n",
       "      <td>510009</td>\n",
       "      <td>510010</td>\n",
       "      <td>510011</td>\n",
       "      <td>510012</td>\n",
       "    </tr>\n",
       "    <tr>\n",
       "      <th>VES</th>\n",
       "      <td>263700.0</td>\n",
       "      <td>264500.0</td>\n",
       "      <td>263800.0</td>\n",
       "      <td>264000.0</td>\n",
       "      <td>263300.0</td>\n",
       "    </tr>\n",
       "    <tr>\n",
       "      <th>T</th>\n",
       "      <td>1396.0</td>\n",
       "      <td>1419.0</td>\n",
       "      <td>1384.0</td>\n",
       "      <td>1401.0</td>\n",
       "      <td>1422.0</td>\n",
       "    </tr>\n",
       "    <tr>\n",
       "      <th>SI</th>\n",
       "      <td>0.44</td>\n",
       "      <td>0.68</td>\n",
       "      <td>0.56</td>\n",
       "      <td>0.48</td>\n",
       "      <td>0.47</td>\n",
       "    </tr>\n",
       "    <tr>\n",
       "      <th>MN</th>\n",
       "      <td>0.22</td>\n",
       "      <td>0.2</td>\n",
       "      <td>0.26</td>\n",
       "      <td>0.27</td>\n",
       "      <td>0.23</td>\n",
       "    </tr>\n",
       "    <tr>\n",
       "      <th>S</th>\n",
       "      <td>0.023</td>\n",
       "      <td>0.017</td>\n",
       "      <td>0.017</td>\n",
       "      <td>0.018</td>\n",
       "      <td>0.018</td>\n",
       "    </tr>\n",
       "    <tr>\n",
       "      <th>P</th>\n",
       "      <td>0.097</td>\n",
       "      <td>0.087</td>\n",
       "      <td>0.096</td>\n",
       "      <td>0.091</td>\n",
       "      <td>0.096</td>\n",
       "    </tr>\n",
       "    <tr>\n",
       "      <th>CR</th>\n",
       "      <td>0.03</td>\n",
       "      <td>0.02</td>\n",
       "      <td>0.03</td>\n",
       "      <td>0.03</td>\n",
       "      <td>0.02</td>\n",
       "    </tr>\n",
       "    <tr>\n",
       "      <th>NI</th>\n",
       "      <td>0.01</td>\n",
       "      <td>0.01</td>\n",
       "      <td>0.01</td>\n",
       "      <td>0.01</td>\n",
       "      <td>0.01</td>\n",
       "    </tr>\n",
       "    <tr>\n",
       "      <th>CU</th>\n",
       "      <td>0.03</td>\n",
       "      <td>0.03</td>\n",
       "      <td>0.03</td>\n",
       "      <td>0.02</td>\n",
       "      <td>0.03</td>\n",
       "    </tr>\n",
       "    <tr>\n",
       "      <th>V</th>\n",
       "      <td>0.103</td>\n",
       "      <td>0.084</td>\n",
       "      <td>0.115</td>\n",
       "      <td>0.112</td>\n",
       "      <td>0.083</td>\n",
       "    </tr>\n",
       "    <tr>\n",
       "      <th>TI</th>\n",
       "      <td>0.084</td>\n",
       "      <td>0.096</td>\n",
       "      <td>0.11</td>\n",
       "      <td>0.11</td>\n",
       "      <td>0.07</td>\n",
       "    </tr>\n",
       "    <tr>\n",
       "      <th>VDSYP_346_VES</th>\n",
       "      <td>2950.0</td>\n",
       "      <td>2930.0</td>\n",
       "      <td>2990.0</td>\n",
       "      <td>3620.0</td>\n",
       "      <td>2930.0</td>\n",
       "    </tr>\n",
       "    <tr>\n",
       "      <th>VDSYP_408_VES</th>\n",
       "      <td>14080.0</td>\n",
       "      <td>18830.0</td>\n",
       "      <td>16080.0</td>\n",
       "      <td>22150.0</td>\n",
       "      <td>19550.0</td>\n",
       "    </tr>\n",
       "    <tr>\n",
       "      <th>VDSYP_171_VES</th>\n",
       "      <td>980.0</td>\n",
       "      <td>960.0</td>\n",
       "      <td>1050.0</td>\n",
       "      <td>980.0</td>\n",
       "      <td>1000.0</td>\n",
       "    </tr>\n",
       "    <tr>\n",
       "      <th>VDSYP_442_VES</th>\n",
       "      <td>2960.0</td>\n",
       "      <td>0.0</td>\n",
       "      <td>2960.0</td>\n",
       "      <td>0.0</td>\n",
       "      <td>3010.0</td>\n",
       "    </tr>\n",
       "    <tr>\n",
       "      <th>VDSYP_104_VES</th>\n",
       "      <td>0.0</td>\n",
       "      <td>1060.0</td>\n",
       "      <td>990.0</td>\n",
       "      <td>550.0</td>\n",
       "      <td>2050.0</td>\n",
       "    </tr>\n",
       "    <tr>\n",
       "      <th>VDSYP_119_VES</th>\n",
       "      <td>0.0</td>\n",
       "      <td>0.0</td>\n",
       "      <td>0.0</td>\n",
       "      <td>0.0</td>\n",
       "      <td>0.0</td>\n",
       "    </tr>\n",
       "    <tr>\n",
       "      <th>VDSYP_397_VES</th>\n",
       "      <td>0.0</td>\n",
       "      <td>0.0</td>\n",
       "      <td>0.0</td>\n",
       "      <td>0.0</td>\n",
       "      <td>0.0</td>\n",
       "    </tr>\n",
       "    <tr>\n",
       "      <th>VDL_4_VES</th>\n",
       "      <td>56500.0</td>\n",
       "      <td>49800.0</td>\n",
       "      <td>45900.0</td>\n",
       "      <td>51900.0</td>\n",
       "      <td>64000.0</td>\n",
       "    </tr>\n",
       "    <tr>\n",
       "      <th>VDL_8_VES</th>\n",
       "      <td>16700.0</td>\n",
       "      <td>22800.0</td>\n",
       "      <td>22400.0</td>\n",
       "      <td>29200.0</td>\n",
       "      <td>6100.0</td>\n",
       "    </tr>\n",
       "    <tr>\n",
       "      <th>VDL_13_VES</th>\n",
       "      <td>3000.0</td>\n",
       "      <td>6000.0</td>\n",
       "      <td>2000.0</td>\n",
       "      <td>3000.0</td>\n",
       "      <td>6000.0</td>\n",
       "    </tr>\n",
       "    <tr>\n",
       "      <th>VDL_23_VES</th>\n",
       "      <td>0.0</td>\n",
       "      <td>0.0</td>\n",
       "      <td>6000.0</td>\n",
       "      <td>0.0</td>\n",
       "      <td>0.0</td>\n",
       "    </tr>\n",
       "    <tr>\n",
       "      <th>VDL_61_VES</th>\n",
       "      <td>0.0</td>\n",
       "      <td>0.0</td>\n",
       "      <td>0.0</td>\n",
       "      <td>0.0</td>\n",
       "      <td>0.0</td>\n",
       "    </tr>\n",
       "    <tr>\n",
       "      <th>VDL_20_VES</th>\n",
       "      <td>0.0</td>\n",
       "      <td>0.0</td>\n",
       "      <td>0.0</td>\n",
       "      <td>0.0</td>\n",
       "      <td>0.0</td>\n",
       "    </tr>\n",
       "    <tr>\n",
       "      <th>VDL_48_VES</th>\n",
       "      <td>0.0</td>\n",
       "      <td>0.0</td>\n",
       "      <td>0.0</td>\n",
       "      <td>0.0</td>\n",
       "      <td>0.0</td>\n",
       "    </tr>\n",
       "    <tr>\n",
       "      <th>VDL_49_VES</th>\n",
       "      <td>0.0</td>\n",
       "      <td>0.0</td>\n",
       "      <td>0.0</td>\n",
       "      <td>0.0</td>\n",
       "      <td>0.0</td>\n",
       "    </tr>\n",
       "    <tr>\n",
       "      <th>VDL_63_VES</th>\n",
       "      <td>0.0</td>\n",
       "      <td>0.0</td>\n",
       "      <td>0.0</td>\n",
       "      <td>0.0</td>\n",
       "      <td>0.0</td>\n",
       "    </tr>\n",
       "    <tr>\n",
       "      <th>VDL_3_VES</th>\n",
       "      <td>0.0</td>\n",
       "      <td>0.0</td>\n",
       "      <td>0.0</td>\n",
       "      <td>0.0</td>\n",
       "      <td>0.0</td>\n",
       "    </tr>\n",
       "    <tr>\n",
       "      <th>plavka_duration</th>\n",
       "      <td>2579.0</td>\n",
       "      <td>4004.0</td>\n",
       "      <td>2904.0</td>\n",
       "      <td>3291.0</td>\n",
       "      <td>2895.0</td>\n",
       "    </tr>\n",
       "    <tr>\n",
       "      <th>plavka_NMZ</th>\n",
       "      <td>С255</td>\n",
       "      <td>С255</td>\n",
       "      <td>Ст3пс/Э</td>\n",
       "      <td>Св-08А.z02</td>\n",
       "      <td>SC2M/ЭТ</td>\n",
       "    </tr>\n",
       "    <tr>\n",
       "      <th>plavka_TIPE_FUR_цилиндрическая</th>\n",
       "      <td>1</td>\n",
       "      <td>1</td>\n",
       "      <td>1</td>\n",
       "      <td>1</td>\n",
       "      <td>1</td>\n",
       "    </tr>\n",
       "    <tr>\n",
       "      <th>TST</th>\n",
       "      <td>1690</td>\n",
       "      <td>1683</td>\n",
       "      <td>1662</td>\n",
       "      <td>1609</td>\n",
       "      <td>1682</td>\n",
       "    </tr>\n",
       "    <tr>\n",
       "      <th>C</th>\n",
       "      <td>0.06</td>\n",
       "      <td>0.097</td>\n",
       "      <td>0.091</td>\n",
       "      <td>0.41</td>\n",
       "      <td>0.12</td>\n",
       "    </tr>\n",
       "    <tr>\n",
       "      <th>O2</th>\n",
       "      <td>9.06</td>\n",
       "      <td>5.35</td>\n",
       "      <td>8.7</td>\n",
       "      <td>12.24</td>\n",
       "      <td>7.72</td>\n",
       "    </tr>\n",
       "    <tr>\n",
       "      <th>T_q95</th>\n",
       "      <td>847.916626</td>\n",
       "      <td>843.402771</td>\n",
       "      <td>872.222229</td>\n",
       "      <td>828.125</td>\n",
       "      <td>842.743036</td>\n",
       "    </tr>\n",
       "    <tr>\n",
       "      <th>O2_endofprocess</th>\n",
       "      <td>9.06</td>\n",
       "      <td>5.35</td>\n",
       "      <td>8.7</td>\n",
       "      <td>12.24</td>\n",
       "      <td>7.72</td>\n",
       "    </tr>\n",
       "    <tr>\n",
       "      <th>produv_startdata_chugun_datazamera_delta</th>\n",
       "      <td>203.0</td>\n",
       "      <td>188.0</td>\n",
       "      <td>210.0</td>\n",
       "      <td>175.0</td>\n",
       "      <td>184.0</td>\n",
       "    </tr>\n",
       "    <tr>\n",
       "      <th>median_C_per_plavka_NMZ</th>\n",
       "      <td>0.062</td>\n",
       "      <td>0.062</td>\n",
       "      <td>0.055</td>\n",
       "      <td>0.453</td>\n",
       "      <td>0.058</td>\n",
       "    </tr>\n",
       "    <tr>\n",
       "      <th>median_TST_per_plavka_NMZ</th>\n",
       "      <td>1640.0</td>\n",
       "      <td>1640.0</td>\n",
       "      <td>1654.0</td>\n",
       "      <td>1615.5</td>\n",
       "      <td>1642.0</td>\n",
       "    </tr>\n",
       "  </tbody>\n",
       "</table>\n",
       "</div>"
      ],
      "text/plain": [
       "                                                        0                1  \\\n",
       "NPLV                                               510008           510009   \n",
       "VES                                              263700.0         264500.0   \n",
       "T                                                  1396.0           1419.0   \n",
       "SI                                                   0.44             0.68   \n",
       "MN                                                   0.22              0.2   \n",
       "S                                                   0.023            0.017   \n",
       "P                                                   0.097            0.087   \n",
       "CR                                                   0.03             0.02   \n",
       "NI                                                   0.01             0.01   \n",
       "CU                                                   0.03             0.03   \n",
       "V                                                   0.103            0.084   \n",
       "TI                                                  0.084            0.096   \n",
       "VDSYP_346_VES                                      2950.0           2930.0   \n",
       "VDSYP_408_VES                                     14080.0          18830.0   \n",
       "VDSYP_171_VES                                       980.0            960.0   \n",
       "VDSYP_442_VES                                      2960.0              0.0   \n",
       "VDSYP_104_VES                                         0.0           1060.0   \n",
       "VDSYP_119_VES                                         0.0              0.0   \n",
       "VDSYP_397_VES                                         0.0              0.0   \n",
       "VDL_4_VES                                         56500.0          49800.0   \n",
       "VDL_8_VES                                         16700.0          22800.0   \n",
       "VDL_13_VES                                         3000.0           6000.0   \n",
       "VDL_23_VES                                            0.0              0.0   \n",
       "VDL_61_VES                                            0.0              0.0   \n",
       "VDL_20_VES                                            0.0              0.0   \n",
       "VDL_48_VES                                            0.0              0.0   \n",
       "VDL_49_VES                                            0.0              0.0   \n",
       "VDL_63_VES                                            0.0              0.0   \n",
       "VDL_3_VES                                             0.0              0.0   \n",
       "plavka_duration                                    2579.0           4004.0   \n",
       "plavka_NMZ                                С255             С255              \n",
       "plavka_TIPE_FUR_цилиндрическая                          1                1   \n",
       "TST                                                  1690             1683   \n",
       "C                                                    0.06            0.097   \n",
       "O2                                                   9.06             5.35   \n",
       "T_q95                                          847.916626       843.402771   \n",
       "O2_endofprocess                                      9.06             5.35   \n",
       "produv_startdata_chugun_datazamera_delta            203.0            188.0   \n",
       "median_C_per_plavka_NMZ                             0.062            0.062   \n",
       "median_TST_per_plavka_NMZ                          1640.0           1640.0   \n",
       "\n",
       "                                                        2                3  \\\n",
       "NPLV                                               510010           510011   \n",
       "VES                                              263800.0         264000.0   \n",
       "T                                                  1384.0           1401.0   \n",
       "SI                                                   0.56             0.48   \n",
       "MN                                                   0.26             0.27   \n",
       "S                                                   0.017            0.018   \n",
       "P                                                   0.096            0.091   \n",
       "CR                                                   0.03             0.03   \n",
       "NI                                                   0.01             0.01   \n",
       "CU                                                   0.03             0.02   \n",
       "V                                                   0.115            0.112   \n",
       "TI                                                   0.11             0.11   \n",
       "VDSYP_346_VES                                      2990.0           3620.0   \n",
       "VDSYP_408_VES                                     16080.0          22150.0   \n",
       "VDSYP_171_VES                                      1050.0            980.0   \n",
       "VDSYP_442_VES                                      2960.0              0.0   \n",
       "VDSYP_104_VES                                       990.0            550.0   \n",
       "VDSYP_119_VES                                         0.0              0.0   \n",
       "VDSYP_397_VES                                         0.0              0.0   \n",
       "VDL_4_VES                                         45900.0          51900.0   \n",
       "VDL_8_VES                                         22400.0          29200.0   \n",
       "VDL_13_VES                                         2000.0           3000.0   \n",
       "VDL_23_VES                                         6000.0              0.0   \n",
       "VDL_61_VES                                            0.0              0.0   \n",
       "VDL_20_VES                                            0.0              0.0   \n",
       "VDL_48_VES                                            0.0              0.0   \n",
       "VDL_49_VES                                            0.0              0.0   \n",
       "VDL_63_VES                                            0.0              0.0   \n",
       "VDL_3_VES                                             0.0              0.0   \n",
       "plavka_duration                                    2904.0           3291.0   \n",
       "plavka_NMZ                                Ст3пс/Э          Св-08А.z02        \n",
       "plavka_TIPE_FUR_цилиндрическая                          1                1   \n",
       "TST                                                  1662             1609   \n",
       "C                                                   0.091             0.41   \n",
       "O2                                                    8.7            12.24   \n",
       "T_q95                                          872.222229          828.125   \n",
       "O2_endofprocess                                       8.7            12.24   \n",
       "produv_startdata_chugun_datazamera_delta            210.0            175.0   \n",
       "median_C_per_plavka_NMZ                             0.055            0.453   \n",
       "median_TST_per_plavka_NMZ                          1654.0           1615.5   \n",
       "\n",
       "                                                        4  \n",
       "NPLV                                               510012  \n",
       "VES                                              263300.0  \n",
       "T                                                  1422.0  \n",
       "SI                                                   0.47  \n",
       "MN                                                   0.23  \n",
       "S                                                   0.018  \n",
       "P                                                   0.096  \n",
       "CR                                                   0.02  \n",
       "NI                                                   0.01  \n",
       "CU                                                   0.03  \n",
       "V                                                   0.083  \n",
       "TI                                                   0.07  \n",
       "VDSYP_346_VES                                      2930.0  \n",
       "VDSYP_408_VES                                     19550.0  \n",
       "VDSYP_171_VES                                      1000.0  \n",
       "VDSYP_442_VES                                      3010.0  \n",
       "VDSYP_104_VES                                      2050.0  \n",
       "VDSYP_119_VES                                         0.0  \n",
       "VDSYP_397_VES                                         0.0  \n",
       "VDL_4_VES                                         64000.0  \n",
       "VDL_8_VES                                          6100.0  \n",
       "VDL_13_VES                                         6000.0  \n",
       "VDL_23_VES                                            0.0  \n",
       "VDL_61_VES                                            0.0  \n",
       "VDL_20_VES                                            0.0  \n",
       "VDL_48_VES                                            0.0  \n",
       "VDL_49_VES                                            0.0  \n",
       "VDL_63_VES                                            0.0  \n",
       "VDL_3_VES                                             0.0  \n",
       "plavka_duration                                    2895.0  \n",
       "plavka_NMZ                                SC2M/ЭТ          \n",
       "plavka_TIPE_FUR_цилиндрическая                          1  \n",
       "TST                                                  1682  \n",
       "C                                                    0.12  \n",
       "O2                                                   7.72  \n",
       "T_q95                                          842.743036  \n",
       "O2_endofprocess                                      7.72  \n",
       "produv_startdata_chugun_datazamera_delta            184.0  \n",
       "median_C_per_plavka_NMZ                             0.058  \n",
       "median_TST_per_plavka_NMZ                          1642.0  "
      ]
     },
     "execution_count": 28,
     "metadata": {},
     "output_type": "execute_result"
    }
   ],
   "source": [
    "df.head().T"
   ]
  },
  {
   "cell_type": "code",
   "execution_count": null,
   "metadata": {},
   "outputs": [],
   "source": []
  },
  {
   "cell_type": "code",
   "execution_count": null,
   "metadata": {},
   "outputs": [],
   "source": []
  },
  {
   "cell_type": "code",
   "execution_count": 29,
   "metadata": {},
   "outputs": [],
   "source": [
    "df = df.dropna()\n",
    "df.index = range(len(df))"
   ]
  },
  {
   "cell_type": "code",
   "execution_count": 30,
   "metadata": {},
   "outputs": [],
   "source": [
    "X = df.drop(labels=['NPLV', 'C', 'TST', 'plavka_NMZ'], axis=1)\n",
    "y = df[['C', 'TST']]"
   ]
  },
  {
   "cell_type": "code",
   "execution_count": 31,
   "metadata": {},
   "outputs": [],
   "source": [
    "X_train, X_test, y_train, y_test = train_test_split(X, y, test_size=0.36, random_state=42)"
   ]
  },
  {
   "cell_type": "code",
   "execution_count": 32,
   "metadata": {},
   "outputs": [],
   "source": [
    "rf_grid = {\n",
    "    \"estimator__n_estimators\": np.arange(10, 60, 10),\n",
    "    \"estimator__max_depth\": [3, 5, 7, 9],\n",
    "    \"estimator__min_samples_leaf\": np.arange(20, 100, 20),\n",
    "    \"estimator__min_samples_split\": np.arange(40, 100, 20),\n",
    "    \"estimator__max_features\": [\"auto\", \"sqrt\", \"log2\"]\n",
    "    \n",
    "}"
   ]
  },
  {
   "cell_type": "code",
   "execution_count": null,
   "metadata": {},
   "outputs": [],
   "source": []
  },
  {
   "cell_type": "code",
   "execution_count": 33,
   "metadata": {},
   "outputs": [
    {
     "name": "stdout",
     "output_type": "stream",
     "text": [
      "Fitting 5 folds for each of 10 candidates, totalling 50 fits\n"
     ]
    },
    {
     "name": "stderr",
     "output_type": "stream",
     "text": [
      "[Parallel(n_jobs=-1)]: Using backend LokyBackend with 8 concurrent workers.\n",
      "[Parallel(n_jobs=-1)]: Done  34 tasks      | elapsed:    2.5s\n"
     ]
    },
    {
     "name": "stdout",
     "output_type": "stream",
     "text": [
      "CPU times: user 223 ms, sys: 145 ms, total: 368 ms\n",
      "Wall time: 2.97 s\n"
     ]
    },
    {
     "name": "stderr",
     "output_type": "stream",
     "text": [
      "[Parallel(n_jobs=-1)]: Done  50 out of  50 | elapsed:    2.8s finished\n"
     ]
    },
    {
     "data": {
      "text/plain": [
       "RandomizedSearchCV(cv=5,\n",
       "                   estimator=MultiOutputRegressor(estimator=RandomForestRegressor(n_jobs=-1,\n",
       "                                                                                  random_state=42)),\n",
       "                   n_jobs=-1,\n",
       "                   param_distributions={'estimator__max_depth': [3, 5, 7, 9],\n",
       "                                        'estimator__max_features': ['auto',\n",
       "                                                                    'sqrt',\n",
       "                                                                    'log2'],\n",
       "                                        'estimator__min_samples_leaf': array([20, 40, 60, 80]),\n",
       "                                        'estimator__min_samples_split': array([40, 60, 80]),\n",
       "                                        'estimator__n_estimators': array([10, 20, 30, 40, 50])},\n",
       "                   random_state=42, verbose=True)"
      ]
     },
     "execution_count": 33,
     "metadata": {},
     "output_type": "execute_result"
    }
   ],
   "source": [
    "%%time\n",
    "rf_reg = RandomForestRegressor(n_jobs=-1, random_state=42)\n",
    "\n",
    "rs_rf_model = RandomizedSearchCV(\n",
    "    MultiOutputRegressor(rf_reg),\n",
    "    rf_grid,\n",
    "    n_iter=10,\n",
    "    cv=5,\n",
    "    verbose=True,\n",
    "    n_jobs=-1,\n",
    "    random_state=42\n",
    "\n",
    ")\n",
    "\n",
    "rs_rf_model.fit(X_train, y_train)"
   ]
  },
  {
   "cell_type": "code",
   "execution_count": 34,
   "metadata": {},
   "outputs": [
    {
     "data": {
      "text/plain": [
       "{'estimator__n_estimators': 40,\n",
       " 'estimator__min_samples_split': 40,\n",
       " 'estimator__min_samples_leaf': 40,\n",
       " 'estimator__max_features': 'auto',\n",
       " 'estimator__max_depth': 5}"
      ]
     },
     "execution_count": 34,
     "metadata": {},
     "output_type": "execute_result"
    }
   ],
   "source": [
    "rs_rf_model.best_params_"
   ]
  },
  {
   "cell_type": "code",
   "execution_count": 35,
   "metadata": {},
   "outputs": [],
   "source": [
    "y_train_pred = pd.DataFrame(rs_rf_model.predict(X_train), columns=['C', 'TST'])"
   ]
  },
  {
   "cell_type": "code",
   "execution_count": 36,
   "metadata": {},
   "outputs": [],
   "source": [
    "y_test_pred = pd.DataFrame(rs_rf_model.predict(X_test), columns=['C', 'TST'])"
   ]
  },
  {
   "cell_type": "code",
   "execution_count": 37,
   "metadata": {},
   "outputs": [],
   "source": [
    "def metric(answers, user_csv):\n",
    "\n",
    "    delta_c = np.abs(np.array(answers['C']) - np.array(user_csv['C']))\n",
    "    hit_rate_c = np.int64(delta_c < 0.02)\n",
    "\n",
    "    delta_t = np.abs(np.array(answers['TST']) - np.array(user_csv['TST']))\n",
    "    hit_rate_t = np.int64(delta_t < 20)\n",
    "\n",
    "    N = np.size(answers['C'])\n",
    "    \n",
    "    return np.sum(hit_rate_c + hit_rate_t) / 2 / N    "
   ]
  },
  {
   "cell_type": "code",
   "execution_count": 38,
   "metadata": {},
   "outputs": [
    {
     "data": {
      "text/plain": [
       "0.6625183016105417"
      ]
     },
     "execution_count": 38,
     "metadata": {},
     "output_type": "execute_result"
    }
   ],
   "source": [
    "metric(y_train, y_train_pred)"
   ]
  },
  {
   "cell_type": "code",
   "execution_count": 39,
   "metadata": {},
   "outputs": [
    {
     "data": {
      "text/plain": [
       "0.6241872561768531"
      ]
     },
     "execution_count": 39,
     "metadata": {},
     "output_type": "execute_result"
    }
   ],
   "source": [
    "metric(y_test, y_test_pred)"
   ]
  },
  {
   "cell_type": "code",
   "execution_count": 40,
   "metadata": {},
   "outputs": [
    {
     "data": {
      "text/plain": [
       "0.432672256564414"
      ]
     },
     "execution_count": 40,
     "metadata": {},
     "output_type": "execute_result"
    }
   ],
   "source": [
    "rs_rf_model.score(X_train, y_train)"
   ]
  },
  {
   "cell_type": "code",
   "execution_count": 41,
   "metadata": {},
   "outputs": [
    {
     "data": {
      "text/plain": [
       "0.39191481321015953"
      ]
     },
     "execution_count": 41,
     "metadata": {},
     "output_type": "execute_result"
    }
   ],
   "source": [
    "rs_rf_model.score(X_test, y_test)"
   ]
  },
  {
   "cell_type": "code",
   "execution_count": null,
   "metadata": {},
   "outputs": [],
   "source": []
  },
  {
   "cell_type": "code",
   "execution_count": null,
   "metadata": {},
   "outputs": [],
   "source": []
  },
  {
   "cell_type": "code",
   "execution_count": null,
   "metadata": {},
   "outputs": [],
   "source": []
  },
  {
   "cell_type": "code",
   "execution_count": null,
   "metadata": {},
   "outputs": [],
   "source": []
  },
  {
   "cell_type": "code",
   "execution_count": 42,
   "metadata": {},
   "outputs": [],
   "source": [
    "#train, test"
   ]
  },
  {
   "cell_type": "code",
   "execution_count": 43,
   "metadata": {},
   "outputs": [
    {
     "name": "stdout",
     "output_type": "stream",
     "text": [
      "CPU times: user 44.5 s, sys: 405 ms, total: 44.9 s\n",
      "Wall time: 13 s\n"
     ]
    }
   ],
   "source": [
    "%%time\n",
    "df = preprocess_df(produv_train, chugun_train, sip_train, lom_train, plavka_train, gas_train, target_train)\n",
    "df = df.dropna()\n",
    "df.index = range(len(df))"
   ]
  },
  {
   "cell_type": "code",
   "execution_count": null,
   "metadata": {},
   "outputs": [],
   "source": []
  },
  {
   "cell_type": "code",
   "execution_count": 44,
   "metadata": {},
   "outputs": [],
   "source": [
    "X_train = df.drop(labels=['NPLV', 'C', 'TST', 'plavka_NMZ'], axis=1)\n",
    "y_train = df[['C', 'TST']]"
   ]
  },
  {
   "cell_type": "code",
   "execution_count": 45,
   "metadata": {},
   "outputs": [
    {
     "data": {
      "text/plain": [
       "{'estimator__n_estimators': 40,\n",
       " 'estimator__min_samples_split': 40,\n",
       " 'estimator__min_samples_leaf': 40,\n",
       " 'estimator__max_features': 'auto',\n",
       " 'estimator__max_depth': 5}"
      ]
     },
     "execution_count": 45,
     "metadata": {},
     "output_type": "execute_result"
    }
   ],
   "source": [
    "rs_rf_model.best_params_"
   ]
  },
  {
   "cell_type": "code",
   "execution_count": 46,
   "metadata": {},
   "outputs": [
    {
     "name": "stdout",
     "output_type": "stream",
     "text": [
      "CPU times: user 88.1 ms, sys: 8.11 ms, total: 96.2 ms\n",
      "Wall time: 171 ms\n"
     ]
    },
    {
     "data": {
      "text/plain": [
       "MultiOutputRegressor(estimator=RandomForestRegressor(max_depth=5,\n",
       "                                                     min_samples_leaf=40,\n",
       "                                                     min_samples_split=40,\n",
       "                                                     n_estimators=40, n_jobs=-1,\n",
       "                                                     random_state=42))"
      ]
     },
     "execution_count": 46,
     "metadata": {},
     "output_type": "execute_result"
    }
   ],
   "source": [
    "%%time\n",
    "rf_reg = MultiOutputRegressor(\n",
    "    RandomForestRegressor(\n",
    "        n_jobs=-1, \n",
    "        random_state=42, \n",
    "        n_estimators = rs_rf_model.best_params_['estimator__n_estimators'],\n",
    "        min_samples_split = rs_rf_model.best_params_['estimator__min_samples_split'],\n",
    "        min_samples_leaf = rs_rf_model.best_params_['estimator__min_samples_leaf'],\n",
    "        max_features = rs_rf_model.best_params_['estimator__max_features'],\n",
    "        max_depth = rs_rf_model.best_params_['estimator__max_depth']\n",
    "    )\n",
    ")\n",
    "rf_reg.fit(X_train, y_train)"
   ]
  },
  {
   "cell_type": "code",
   "execution_count": 47,
   "metadata": {},
   "outputs": [
    {
     "data": {
      "text/plain": [
       "0.6618266978922717"
      ]
     },
     "execution_count": 47,
     "metadata": {},
     "output_type": "execute_result"
    }
   ],
   "source": [
    "y_train_pred = pd.DataFrame(rf_reg.predict(X_train), columns=['C', 'TST'])\n",
    "metric(y_train, y_train_pred)"
   ]
  },
  {
   "cell_type": "code",
   "execution_count": 48,
   "metadata": {},
   "outputs": [
    {
     "data": {
      "text/plain": [
       "0.5231867870502924"
      ]
     },
     "execution_count": 48,
     "metadata": {},
     "output_type": "execute_result"
    }
   ],
   "source": [
    "rf_reg.score(X_train, y_train)"
   ]
  },
  {
   "cell_type": "code",
   "execution_count": 49,
   "metadata": {},
   "outputs": [
    {
     "name": "stdout",
     "output_type": "stream",
     "text": [
      "CPU times: user 8.51 s, sys: 236 ms, total: 8.75 s\n",
      "Wall time: 3.84 s\n"
     ]
    }
   ],
   "source": [
    "%%time\n",
    "df_test = preprocess_df(\n",
    "    produv_test, chugun_test, sip_test, lom_test, plavka_test, gas_test, target_test, is_df_train=False, df_train=df)\n"
   ]
  },
  {
   "cell_type": "code",
   "execution_count": 50,
   "metadata": {},
   "outputs": [],
   "source": [
    "X_test = df_test.drop(labels=['NPLV', 'C', 'TST', 'plavka_NMZ'], axis=1)\n",
    "y_test = df_test[['C', 'TST']]"
   ]
  },
  {
   "cell_type": "code",
   "execution_count": 51,
   "metadata": {},
   "outputs": [],
   "source": [
    "y_test_pred = pd.DataFrame(rf_reg.predict(X_test), columns=['C', 'TST'])"
   ]
  },
  {
   "cell_type": "code",
   "execution_count": 52,
   "metadata": {},
   "outputs": [],
   "source": [
    "y_test_pred['NPLV'] = df_test['NPLV']"
   ]
  },
  {
   "cell_type": "code",
   "execution_count": 53,
   "metadata": {},
   "outputs": [],
   "source": [
    "y_test_pred[['NPLV', 'TST', 'C']].to_csv(\"predictions.csv\", index=False)"
   ]
  },
  {
   "cell_type": "code",
   "execution_count": null,
   "metadata": {},
   "outputs": [],
   "source": []
  },
  {
   "cell_type": "code",
   "execution_count": null,
   "metadata": {},
   "outputs": [],
   "source": []
  }
 ],
 "metadata": {
  "kernelspec": {
   "display_name": "Python 3",
   "language": "python",
   "name": "python3"
  },
  "language_info": {
   "codemirror_mode": {
    "name": "ipython",
    "version": 3
   },
   "file_extension": ".py",
   "mimetype": "text/x-python",
   "name": "python",
   "nbconvert_exporter": "python",
   "pygments_lexer": "ipython3",
   "version": "3.8.5"
  }
 },
 "nbformat": 4,
 "nbformat_minor": 4
}
